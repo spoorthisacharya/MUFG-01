{
 "cells": [
  {
   "cell_type": "code",
   "execution_count": 1,
   "id": "5c7f1d21-9b45-4044-934d-d53d2537c160",
   "metadata": {},
   "outputs": [
    {
     "name": "stdout",
     "output_type": "stream",
     "text": [
      "10\n",
      "victor\n",
      "32000\n"
     ]
    }
   ],
   "source": [
    "#single assignment\n",
    "a=10\n",
    "name=\"victor\"\n",
    "salary=32000\n",
    "print(a)\n",
    "print(name)\n",
    "print(salary)"
   ]
  },
  {
   "cell_type": "code",
   "execution_count": 1,
   "id": "4bc30fc8-bd8b-456a-95db-df4ae3347745",
   "metadata": {},
   "outputs": [
    {
     "name": "stdout",
     "output_type": "stream",
     "text": [
      "40\n",
      "10\n"
     ]
    }
   ],
   "source": [
    "a=b=c=10\n",
    "x,y,z=40,50,70\n",
    "print(x)\n",
    "print(c)"
   ]
  },
  {
   "cell_type": "code",
   "execution_count": 2,
   "id": "3070702c-cdef-47ee-98fd-f3edc6547007",
   "metadata": {},
   "outputs": [
    {
     "name": "stdout",
     "output_type": "stream",
     "text": [
      "software engineer roles\n"
     ]
    }
   ],
   "source": [
    "score=80\n",
    "if score>=90:\n",
    "    print(\"senior software engineer roles\")\n",
    "elif score>=70:\n",
    "    print(\"software engineer roles\")\n",
    "elif score>=50:\n",
    "    print(\"internship or traine roles\")\n",
    "else:\n",
    "    print(\"improve with coding\")"
   ]
  },
  {
   "cell_type": "code",
   "execution_count": null,
   "id": "0462057b-de5c-41b0-8585-c6d03aaa491d",
   "metadata": {},
   "outputs": [],
   "source": [
    "tries=0\n",
    "while tries<3:\n",
    "    print(\"try booking cab\")\n",
    "    user=input(\"did u get a cab:\")\n",
    "    if user.lower()==\"yes\":\n",
    "        print(\"car booked successsfully\")\n",
    "        break\n",
    "    tries+=1\n",
    "if tries==3:\n",
    "    print(\"try again later\")"
   ]
  },
  {
   "cell_type": "code",
   "execution_count": 5,
   "id": "d4cf3c03-334e-4e18-b197-23476be6fd16",
   "metadata": {},
   "outputs": [
    {
     "name": "stdout",
     "output_type": "stream",
     "text": [
      "pen\n",
      "pencil\n",
      "eraser\n",
      "item found\n"
     ]
    }
   ],
   "source": [
    "items=[\"pen\",\"pencil\",\"eraser\",\"book\"]\n",
    "for item in items:\n",
    "    print(item)\n",
    "    if item==\"eraser\":\n",
    "        break\n",
    "print(\"item found\")"
   ]
  },
  {
   "cell_type": "code",
   "execution_count": 6,
   "id": "fe91913f-3166-4490-ac5d-ecef377c05a0",
   "metadata": {},
   "outputs": [
    {
     "name": "stdout",
     "output_type": "stream",
     "text": [
      "pen\n",
      "pencil\n",
      "eraser\n",
      "book\n"
     ]
    }
   ],
   "source": [
    "items=[\"pen\",\"pencil\",\"eraser\",\"out-of-stock\",\"book\"]\n",
    "for item in items:\n",
    "    if item==\"out-of-stock\":\n",
    "        continue\n",
    "    print(item)"
   ]
  },
  {
   "cell_type": "code",
   "execution_count": 11,
   "id": "181d3775-3ec1-4a54-b2d2-7f8f63295cb0",
   "metadata": {},
   "outputs": [
    {
     "name": "stdout",
     "output_type": "stream",
     "text": [
      "5\n"
     ]
    }
   ],
   "source": [
    "def sum(a,b):\n",
    "    add=a+b\n",
    "    return add\n",
    "print(sum(3,2))"
   ]
  },
  {
   "cell_type": "code",
   "execution_count": 17,
   "id": "31626506-e7aa-4a1f-aa60-37f7409f4705",
   "metadata": {},
   "outputs": [
    {
     "name": "stdout",
     "output_type": "stream",
     "text": [
      "13\n"
     ]
    }
   ],
   "source": [
    "def fib(n):\n",
    "    if n==0:\n",
    "        return 0\n",
    "    if n==1:\n",
    "        return 1\n",
    "    return fib(n-1)+fib(n-2)\n",
    "print(fib(7))"
   ]
  },
  {
   "cell_type": "code",
   "execution_count": 25,
   "id": "9bae5785-1d6a-4ad1-9db4-3462f5e7220e",
   "metadata": {},
   "outputs": [
    {
     "name": "stdout",
     "output_type": "stream",
     "text": [
      "120\n"
     ]
    }
   ],
   "source": [
    "def fact(n):\n",
    "    fac=1\n",
    "    for i in range(fac,n+1):\n",
    "      fac*=i\n",
    "    return fac\n",
    "print(fact(5))"
   ]
  },
  {
   "cell_type": "code",
   "execution_count": null,
   "id": "26f0a83b-f9c3-4d65-bc94-0e9b6fc0bed8",
   "metadata": {},
   "outputs": [],
   "source": [
    "import random\n",
    "rando=random.randint(1,50)\n",
    "#guess=[]\n",
    "while True:\n",
    "   user=int(input(\"guess:\"))\n",
    "   if user>rando:\n",
    "    print(\"too high\")\n",
    "   elif user<rando:\n",
    "    print(\"too low\")\n",
    "   else:\n",
    "    print(\"guess number is:\", rando)\n",
    "       break"
   ]
  },
  {
   "cell_type": "code",
   "execution_count": null,
   "id": "79a82d92-e17f-465d-8bf5-08d1ea98c692",
   "metadata": {},
   "outputs": [],
   "source": []
  },
  {
   "cell_type": "code",
   "execution_count": null,
   "id": "2cbe2853-c8cb-4ff6-aa5f-4843033e5021",
   "metadata": {},
   "outputs": [],
   "source": []
  }
 ],
 "metadata": {
  "kernelspec": {
   "display_name": "Python 3 (ipykernel)",
   "language": "python",
   "name": "python3"
  },
  "language_info": {
   "codemirror_mode": {
    "name": "ipython",
    "version": 3
   },
   "file_extension": ".py",
   "mimetype": "text/x-python",
   "name": "python",
   "nbconvert_exporter": "python",
   "pygments_lexer": "ipython3",
   "version": "3.12.6"
  }
 },
 "nbformat": 4,
 "nbformat_minor": 5
}
